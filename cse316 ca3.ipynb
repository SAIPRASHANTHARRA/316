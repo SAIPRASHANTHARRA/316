{
 "cells": [
  {
   "cell_type": "code",
   "execution_count": 1,
   "id": "27ddee39",
   "metadata": {},
   "outputs": [
    {
     "name": "stdout",
     "output_type": "stream",
     "text": [
      "Disk space is  500 gb\n",
      "Enter the size of the file/spread sheet/photo\n",
      "255\n",
      "Enter the units i.e in kb or gb or mb\n",
      "250000\n",
      "Enter the units in mb or kb or gb or b only\n"
     ]
    },
    {
     "ename": "NameError",
     "evalue": "name 'c' is not defined",
     "output_type": "error",
     "traceback": [
      "\u001b[1;31m---------------------------------------------------------------------------\u001b[0m",
      "\u001b[1;31mNameError\u001b[0m                                 Traceback (most recent call last)",
      "\u001b[1;32m~\\AppData\\Local\\Temp\\ipykernel_10724\\3781746509.py\u001b[0m in \u001b[0;36m<module>\u001b[1;34m\u001b[0m\n\u001b[0;32m     27\u001b[0m \u001b[1;32melse\u001b[0m \u001b[1;33m:\u001b[0m\u001b[1;33m\u001b[0m\u001b[1;33m\u001b[0m\u001b[0m\n\u001b[0;32m     28\u001b[0m     \u001b[0mprint\u001b[0m\u001b[1;33m(\u001b[0m\u001b[1;34m\"Enter the units in mb or kb or gb or b only\"\u001b[0m\u001b[1;33m)\u001b[0m\u001b[1;33m\u001b[0m\u001b[1;33m\u001b[0m\u001b[0m\n\u001b[1;32m---> 29\u001b[1;33m \u001b[0mprint\u001b[0m\u001b[1;33m(\u001b[0m\u001b[1;34m\"the remaining space in Disk is\"\u001b[0m \u001b[1;33m,\u001b[0m \u001b[0mDisk_space\u001b[0m \u001b[1;33m-\u001b[0m \u001b[0mc\u001b[0m \u001b[1;33m,\u001b[0m\u001b[1;34m\"gb\"\u001b[0m\u001b[1;33m)\u001b[0m\u001b[1;33m\u001b[0m\u001b[1;33m\u001b[0m\u001b[0m\n\u001b[0m\u001b[0;32m     30\u001b[0m \u001b[1;33m\u001b[0m\u001b[0m\n\u001b[0;32m     31\u001b[0m \u001b[0mprint\u001b[0m\u001b[1;33m(\u001b[0m\u001b[1;34m\"Enter the number for the operation  \\n 1.delete \\n 2.rename \\n 3.move \\n \"\u001b[0m\u001b[1;33m)\u001b[0m\u001b[1;33m\u001b[0m\u001b[1;33m\u001b[0m\u001b[0m\n",
      "\u001b[1;31mNameError\u001b[0m: name 'c' is not defined"
     ]
    }
   ],
   "source": [
    "#for storing the file we need the size of the file and after adding the file we need to know the amount of space free in the hard disk\n",
    "# so that some files may be in the size of kb or mb to know that this was the piece of code to say the remaiing space in the hard disk\n",
    "Disk_space=500 \n",
    "print(\"Disk space is \" , Disk_space ,\"gb\")#disc space is the amount of space in the disk(total storage)\n",
    "#there are many blocks called as block space in an hard disk\n",
    "block_space=100 #(in kb)block space \n",
    "# Fragmentation is the process of breaking the code or file into pieces to store them \n",
    "#if the size of the file is 200kb and if the size of the block is 100kb then the file occupies 2 blocks  \n",
    "print(\"Enter the size of the file/spread sheet/photo\")\n",
    "a=float(input())\n",
    "print(\"Enter the units i.e in kb or gb or mb\")\n",
    "unit=str(input())\n",
    "\n",
    "if unit== \"kb\":\n",
    "    c=a/(1024*1024)\n",
    "    print(\"file size converted kb to gb is\" , c )\n",
    "    #print(\"number of block occupied by the file is\" ,a/100)\n",
    "elif unit==\"gb\":\n",
    "    c=a/1\n",
    "    print(\"File size in gb is \", c)\n",
    "    print(\"number of block occupied by the file is\" ,)\n",
    "elif unit == \"mb\":\n",
    "    c=a/1024\n",
    "    \n",
    "    print(\"File size converted from mb to gb is \" ,c)\n",
    "elif unit==\"b\":\n",
    "    c==a/(1024*1024*1000)\n",
    "    print(\"File size converted from b to gb is\", c)\n",
    "else :\n",
    "    print(\"Enter the units in mb or kb or gb or b only\")\n",
    "print(\"the remaining space in Disk is\" , Disk_space - c ,\"gb\")\n",
    "\n",
    "print(\"Enter the number for the operation  \\n 1.delete \\n 2.rename \\n 3.move \\n \")\n",
    "d=int(input())\n",
    "\n",
    "\n",
    "if d==1:\n",
    "    print(\"\")\n",
    "elif d==2:\n",
    "    print(\"Enter the name you need to rename\")\n",
    "elif d==3:\n",
    "    print(\"\")\n",
    "else:\n",
    "    print(\"Enter the valid operation\")"
   ]
  },
  {
   "cell_type": "code",
   "execution_count": null,
   "id": "831c6547",
   "metadata": {},
   "outputs": [],
   "source": []
  },
  {
   "cell_type": "code",
   "execution_count": null,
   "id": "58375282",
   "metadata": {},
   "outputs": [],
   "source": []
  }
 ],
 "metadata": {
  "kernelspec": {
   "display_name": "Python 3 (ipykernel)",
   "language": "python",
   "name": "python3"
  },
  "language_info": {
   "codemirror_mode": {
    "name": "ipython",
    "version": 3
   },
   "file_extension": ".py",
   "mimetype": "text/x-python",
   "name": "python",
   "nbconvert_exporter": "python",
   "pygments_lexer": "ipython3",
   "version": "3.9.13"
  }
 },
 "nbformat": 4,
 "nbformat_minor": 5
}
